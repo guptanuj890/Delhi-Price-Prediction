{
 "cells": [
  {
   "cell_type": "code",
   "execution_count": 1,
   "id": "770ad4bd",
   "metadata": {
    "execution": {
     "iopub.execute_input": "2023-09-04T21:56:26.093312Z",
     "iopub.status.busy": "2023-09-04T21:56:26.092863Z",
     "iopub.status.idle": "2023-09-04T21:56:28.337495Z",
     "shell.execute_reply": "2023-09-04T21:56:28.336185Z"
    },
    "papermill": {
     "duration": 2.279578,
     "end_time": "2023-09-04T21:56:28.340441",
     "exception": false,
     "start_time": "2023-09-04T21:56:26.060863",
     "status": "completed"
    },
    "tags": []
   },
   "outputs": [],
   "source": [
    "import numpy as np\n",
    "import pandas as pd\n",
    "import matplotlib.pyplot as plt\n",
    "import seaborn as sns"
   ]
  },
  {
   "cell_type": "code",
   "execution_count": 2,
   "id": "e68a270b",
   "metadata": {
    "execution": {
     "iopub.execute_input": "2023-09-04T21:56:28.401152Z",
     "iopub.status.busy": "2023-09-04T21:56:28.400584Z",
     "iopub.status.idle": "2023-09-04T21:56:28.437295Z",
     "shell.execute_reply": "2023-09-04T21:56:28.435933Z"
    },
    "papermill": {
     "duration": 0.069452,
     "end_time": "2023-09-04T21:56:28.440155",
     "exception": false,
     "start_time": "2023-09-04T21:56:28.370703",
     "status": "completed"
    },
    "tags": []
   },
   "outputs": [],
   "source": [
    "df=pd.read_csv('/kaggle/input/delhi-house-price-prediction/MagicBricks.csv')"
   ]
  },
  {
   "cell_type": "code",
   "execution_count": null,
   "id": "14f550af",
   "metadata": {
    "execution": {
     "iopub.execute_input": "2023-09-04T21:56:29.098708Z",
     "iopub.status.busy": "2023-09-04T21:56:29.097266Z",
     "iopub.status.idle": "2023-09-04T21:56:29.107189Z",
     "shell.execute_reply": "2023-09-04T21:56:29.106061Z"
    },
    "papermill": {
     "duration": 0.044639,
     "end_time": "2023-09-04T21:56:29.109934",
     "exception": false,
     "start_time": "2023-09-04T21:56:29.065295",
     "status": "completed"
    },
    "tags": []
   },
   "outputs": [],
   "source": [
    "df['Per_Sqft'].fillna((df['Price']/df['Area']),inplace=True)\n",
    "df['Bathroom'].fillna(df['Bathroom'].mode()[0],inplace=True)\n",
    "df['Furnishing'].fillna(df['Furnishing'].mode()[0],inplace=True)\n",
    "df['Parking'].fillna(df['Parking'].mode()[0],inplace=True)\n",
    "df['Type'].fillna(df['Type'].mode()[0],inplace=True)\n",
    "\n",
    "\n",
    "df[['Parking','Bathroom']]=df[['Parking','Bathroom']].astype('int64')\n",
    "\n",
    "\n",
    "def grp_loc(locality):\n",
    "    locality=locality.lower()\n",
    "    if 'rohini' in locality:\n",
    "        return 'Rohini Sector'\n",
    "    elif 'dwarka' in locality:\n",
    "        return 'Dwarka Sector'\n",
    "    elif 'shahdara' in locality:\n",
    "        return 'Shahdara'\n",
    "    elif 'vasant' in locality:\n",
    "        return 'Vasant Kunj'\n",
    "    elif 'paschim' in locality:\n",
    "        return 'Paschim Vihar'\n",
    "    elif 'alaknanda' in locality:\n",
    "        return 'Alaknanda'\n",
    "    elif 'vasundhara' in locality:\n",
    "        return 'Vasundhara Enclave'\n",
    "    elif 'punjabi' in locality:\n",
    "        return 'Punjabi Bagh'\n",
    "    elif 'kalkaji' in locality:\n",
    "        return 'Kalkaji'\n",
    "    elif 'lajpat' in locality:\n",
    "        return 'Lajpat Nagar'\n",
    "    elif 'laxmi' in locality:\n",
    "        return 'Laxmi Nagar'\n",
    "    elif 'patel' in locality:\n",
    "        return 'Patel Nagar'\n",
    "    else:\n",
    "        return 'Other'\n",
    "    \n",
    "    \n",
    "df['Locality']=df['Locality'].apply(grp_loc)    \n",
    "from scipy import stats\n",
    "z = np.abs(stats.zscore(df[df.dtypes[df.dtypes != 'object'].index]))\n",
    "df = df[(z < 3).all(axis=1)]"
   ]
  },
  {
   "cell_type": "markdown",
   "id": "7556de39",
   "metadata": {
    "papermill": {
     "duration": 0.0453,
     "end_time": "2023-09-04T21:56:42.044221",
     "exception": false,
     "start_time": "2023-09-04T21:56:41.998921",
     "status": "completed"
    },
    "tags": []
   },
   "source": [
    "## Date Preprocessing"
   ]
  },
  {
   "cell_type": "markdown",
   "id": "783750f1",
   "metadata": {
    "papermill": {
     "duration": 0.044134,
     "end_time": "2023-09-04T21:56:42.132873",
     "exception": false,
     "start_time": "2023-09-04T21:56:42.088739",
     "status": "completed"
    },
    "tags": []
   },
   "source": [
    "#### Label Encoding"
   ]
  },
  {
   "cell_type": "code",
   "execution_count": 44,
   "id": "94c99fa4",
   "metadata": {
    "execution": {
     "iopub.execute_input": "2023-09-04T21:56:42.222806Z",
     "iopub.status.busy": "2023-09-04T21:56:42.222390Z",
     "iopub.status.idle": "2023-09-04T21:56:42.405531Z",
     "shell.execute_reply": "2023-09-04T21:56:42.404141Z"
    },
    "papermill": {
     "duration": 0.231677,
     "end_time": "2023-09-04T21:56:42.408466",
     "exception": false,
     "start_time": "2023-09-04T21:56:42.176789",
     "status": "completed"
    },
    "tags": []
   },
   "outputs": [],
   "source": [
    "from sklearn.preprocessing import LabelEncoder"
   ]
  },
  {
   "cell_type": "code",
   "execution_count": 45,
   "id": "03944ff5",
   "metadata": {
    "execution": {
     "iopub.execute_input": "2023-09-04T21:56:42.502292Z",
     "iopub.status.busy": "2023-09-04T21:56:42.501839Z",
     "iopub.status.idle": "2023-09-04T21:56:42.506533Z",
     "shell.execute_reply": "2023-09-04T21:56:42.505659Z"
    },
    "papermill": {
     "duration": 0.053722,
     "end_time": "2023-09-04T21:56:42.509096",
     "exception": false,
     "start_time": "2023-09-04T21:56:42.455374",
     "status": "completed"
    },
    "tags": []
   },
   "outputs": [],
   "source": [
    "le=LabelEncoder()"
   ]
  },
  {
   "cell_type": "code",
   "execution_count": 47,
   "id": "f02100de",
   "metadata": {
    "execution": {
     "iopub.execute_input": "2023-09-04T21:56:42.703250Z",
     "iopub.status.busy": "2023-09-04T21:56:42.701873Z",
     "iopub.status.idle": "2023-09-04T21:56:42.707398Z",
     "shell.execute_reply": "2023-09-04T21:56:42.706459Z"
    },
    "papermill": {
     "duration": 0.053501,
     "end_time": "2023-09-04T21:56:42.709595",
     "exception": false,
     "start_time": "2023-09-04T21:56:42.656094",
     "status": "completed"
    },
    "tags": []
   },
   "outputs": [],
   "source": [
    "col=['Furnishing','Locality','Status','Transaction','Type']"
   ]
  },
  {
   "cell_type": "code",
   "execution_count": 48,
   "id": "dd00cb57",
   "metadata": {
    "execution": {
     "iopub.execute_input": "2023-09-04T21:56:42.799367Z",
     "iopub.status.busy": "2023-09-04T21:56:42.798958Z",
     "iopub.status.idle": "2023-09-04T21:56:42.812374Z",
     "shell.execute_reply": "2023-09-04T21:56:42.810739Z"
    },
    "papermill": {
     "duration": 0.061383,
     "end_time": "2023-09-04T21:56:42.814655",
     "exception": false,
     "start_time": "2023-09-04T21:56:42.753272",
     "status": "completed"
    },
    "tags": []
   },
   "outputs": [
    {
     "name": "stdout",
     "output_type": "stream",
     "text": [
      "Furnishing [1 0 2]\n",
      "Locality [ 9  3  1  5  4  7 11 10  6  0 12  8  2]\n",
      "Status [1 0]\n",
      "Transaction [0 1]\n",
      "Type [1 0]\n"
     ]
    }
   ],
   "source": [
    "for i in col:\n",
    "    le.fit(df[i])\n",
    "    df[i]=le.transform(df[i])\n",
    "    print(i,df[i].unique())"
   ]
  },
  {
   "cell_type": "markdown",
   "id": "9c348ee4",
   "metadata": {
    "papermill": {
     "duration": 0.045456,
     "end_time": "2023-09-04T21:56:42.903735",
     "exception": false,
     "start_time": "2023-09-04T21:56:42.858279",
     "status": "completed"
    },
    "tags": []
   },
   "source": [
    "#### Normalizing the continuous features"
   ]
  },
  {
   "cell_type": "code",
   "execution_count": 49,
   "id": "a6994c16",
   "metadata": {
    "execution": {
     "iopub.execute_input": "2023-09-04T21:56:42.994520Z",
     "iopub.status.busy": "2023-09-04T21:56:42.994066Z",
     "iopub.status.idle": "2023-09-04T21:56:43.005912Z",
     "shell.execute_reply": "2023-09-04T21:56:43.004844Z"
    },
    "papermill": {
     "duration": 0.059868,
     "end_time": "2023-09-04T21:56:43.008166",
     "exception": false,
     "start_time": "2023-09-04T21:56:42.948298",
     "status": "completed"
    },
    "tags": []
   },
   "outputs": [],
   "source": [
    "from sklearn.preprocessing import MinMaxScaler\n",
    "min_max=MinMaxScaler()\n",
    "df[['Area','Price','Per_Sqft']]=min_max.fit_transform(df[['Area','Price','Per_Sqft']])"
   ]
  }
 ],
 "metadata": {
  "kernelspec": {
   "display_name": "Python 3",
   "language": "python",
   "name": "python3"
  },
  "language_info": {
   "codemirror_mode": {
    "name": "ipython",
    "version": 3
   },
   "file_extension": ".py",
   "mimetype": "text/x-python",
   "name": "python",
   "nbconvert_exporter": "python",
   "pygments_lexer": "ipython3",
   "version": "3.10.12"
  },
  "papermill": {
   "default_parameters": {},
   "duration": 104.737767,
   "end_time": "2023-09-04T21:58:06.965828",
   "environment_variables": {},
   "exception": null,
   "input_path": "__notebook__.ipynb",
   "output_path": "__notebook__.ipynb",
   "parameters": {},
   "start_time": "2023-09-04T21:56:22.228061",
   "version": "2.4.0"
  }
 },
 "nbformat": 4,
 "nbformat_minor": 5
}
